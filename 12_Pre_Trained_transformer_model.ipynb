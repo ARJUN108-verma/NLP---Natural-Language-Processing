{
  "nbformat": 4,
  "nbformat_minor": 0,
  "metadata": {
    "colab": {
      "provenance": [],
      "authorship_tag": "ABX9TyPeMaEZCryYSLA8epWLgcc0",
      "include_colab_link": true
    },
    "kernelspec": {
      "name": "python3",
      "display_name": "Python 3"
    },
    "language_info": {
      "name": "python"
    }
  },
  "cells": [
    {
      "cell_type": "markdown",
      "metadata": {
        "id": "view-in-github",
        "colab_type": "text"
      },
      "source": [
        "<a href=\"https://colab.research.google.com/github/ARJUN108-verma/NLP---Natural-Language-Processing/blob/main/12_Pre_Trained_transformer_model.ipynb\" target=\"_parent\"><img src=\"https://colab.research.google.com/assets/colab-badge.svg\" alt=\"Open In Colab\"/></a>"
      ]
    },
    {
      "cell_type": "markdown",
      "source": [
        "Pre-trained Transformer Models:-"
      ],
      "metadata": {
        "id": "i5DAn07872p4"
      }
    },
    {
      "cell_type": "markdown",
      "source": [
        "Pre-trained Transformer models are deep learning models that have been trained on large corpora of text data and can be fine-tuned for a wide range of Natural Language Processing (NLP) tasks such as sentiment analysis, named entity recognition (NER), text classification, translation, and more."
      ],
      "metadata": {
        "id": "UK3VZN4q8MEz"
      }
    },
    {
      "cell_type": "code",
      "execution_count": 14,
      "metadata": {
        "id": "X9pJRZUm7mu1"
      },
      "outputs": [],
      "source": [
        "import transformers\n",
        "from transformers import pipeline"
      ]
    },
    {
      "cell_type": "code",
      "source": [
        "sentiment_pipeline = pipeline(\"sentiment-analysis\")"
      ],
      "metadata": {
        "colab": {
          "base_uri": "https://localhost:8080/"
        },
        "id": "XfYE579V9xD7",
        "outputId": "1d8fb335-030c-48a4-c6ad-794d91711235"
      },
      "execution_count": 15,
      "outputs": [
        {
          "output_type": "stream",
          "name": "stderr",
          "text": [
            "No model was supplied, defaulted to distilbert/distilbert-base-uncased-finetuned-sst-2-english and revision 714eb0f (https://huggingface.co/distilbert/distilbert-base-uncased-finetuned-sst-2-english).\n",
            "Using a pipeline without specifying a model name and revision in production is not recommended.\n",
            "Device set to use cpu\n"
          ]
        }
      ]
    },
    {
      "cell_type": "code",
      "source": [
        "sentence_1 = \"i had a great time at the movie it was really funny\"\n",
        "sentence_2 = \"i had a great time at the movie but the parking was terrible\"\n",
        "sentence_3 = \"i had a great time at the movie but the parking wasn't great\"\n",
        "sentence_4 = \"i went to see a movie\""
      ],
      "metadata": {
        "id": "snQfSBqF-WQb"
      },
      "execution_count": 16,
      "outputs": []
    },
    {
      "cell_type": "code",
      "source": [
        "print(sentence_1)\n",
        "print(sentiment_pipeline(sentence_1))"
      ],
      "metadata": {
        "colab": {
          "base_uri": "https://localhost:8080/"
        },
        "id": "Qn13UYJ4-kz_",
        "outputId": "65996631-1a6a-441d-d3de-4dd98fe6431d"
      },
      "execution_count": 17,
      "outputs": [
        {
          "output_type": "stream",
          "name": "stdout",
          "text": [
            "i had a great time at the movie it was really funny\n",
            "[{'label': 'POSITIVE', 'score': 0.9998176693916321}]\n"
          ]
        }
      ]
    },
    {
      "cell_type": "code",
      "source": [
        "test = sentiment_pipeline(sentence_1)\n",
        "for i in test:\n",
        "  print(i)"
      ],
      "metadata": {
        "colab": {
          "base_uri": "https://localhost:8080/"
        },
        "id": "DomJwlwW-_Cq",
        "outputId": "7b6e4977-d0f5-46b2-cae1-a4462d033080"
      },
      "execution_count": 18,
      "outputs": [
        {
          "output_type": "stream",
          "name": "stdout",
          "text": [
            "{'label': 'POSITIVE', 'score': 0.9998176693916321}\n"
          ]
        }
      ]
    },
    {
      "cell_type": "code",
      "source": [
        "print(sentence_2)\n",
        "print(sentiment_pipeline(sentence_2))"
      ],
      "metadata": {
        "colab": {
          "base_uri": "https://localhost:8080/"
        },
        "id": "jrC9ais-_P8E",
        "outputId": "1e8c3280-b07a-469d-d944-5e79bf364a1a"
      },
      "execution_count": 19,
      "outputs": [
        {
          "output_type": "stream",
          "name": "stdout",
          "text": [
            "i had a great time at the movie but the parking was terrible\n",
            "[{'label': 'NEGATIVE', 'score': 0.9977464079856873}]\n"
          ]
        }
      ]
    },
    {
      "cell_type": "code",
      "source": [
        "print(sentence_3)\n",
        "print(sentiment_pipeline(sentence_3))"
      ],
      "metadata": {
        "colab": {
          "base_uri": "https://localhost:8080/"
        },
        "id": "S6TSLz90_gyc",
        "outputId": "4272f781-d038-47aa-a798-c116c7fab82a"
      },
      "execution_count": 20,
      "outputs": [
        {
          "output_type": "stream",
          "name": "stdout",
          "text": [
            "i had a great time at the movie but the parking wasn't great\n",
            "[{'label': 'NEGATIVE', 'score': 0.9984902143478394}]\n"
          ]
        }
      ]
    },
    {
      "cell_type": "code",
      "source": [
        "print(sentence_4)\n",
        "print(sentiment_pipeline(sentence_4))"
      ],
      "metadata": {
        "colab": {
          "base_uri": "https://localhost:8080/"
        },
        "id": "za7_DzFn_oaK",
        "outputId": "f505a981-ac74-4217-b986-6892523b6311"
      },
      "execution_count": 21,
      "outputs": [
        {
          "output_type": "stream",
          "name": "stdout",
          "text": [
            "i went to see a movie\n",
            "[{'label': 'POSITIVE', 'score': 0.9802700281143188}]\n"
          ]
        }
      ]
    },
    {
      "cell_type": "markdown",
      "source": [
        "Let's try a specific model trained on tweets in the English language only and see if that improves our results."
      ],
      "metadata": {
        "id": "92fjOJ8o_2Ws"
      }
    },
    {
      "cell_type": "code",
      "source": [
        "!pip3 install emoji==0.6.0"
      ],
      "metadata": {
        "colab": {
          "base_uri": "https://localhost:8080/"
        },
        "id": "ld_q4tNHA0gZ",
        "outputId": "a00a0d09-4b99-4247-986f-9ae5d7d7e667"
      },
      "execution_count": 22,
      "outputs": [
        {
          "output_type": "stream",
          "name": "stdout",
          "text": [
            "Requirement already satisfied: emoji==0.6.0 in /usr/local/lib/python3.11/dist-packages (0.6.0)\n"
          ]
        }
      ]
    },
    {
      "cell_type": "code",
      "source": [
        "specific_model = pipeline(model=\"finiteautomata/bertweet-base-sentiment-analysis\")"
      ],
      "metadata": {
        "colab": {
          "base_uri": "https://localhost:8080/"
        },
        "id": "EQuxKo8s_u8R",
        "outputId": "cc4d76c7-4741-4022-d3dd-27b0e3ce60da"
      },
      "execution_count": 23,
      "outputs": [
        {
          "output_type": "stream",
          "name": "stderr",
          "text": [
            "Device set to use cpu\n"
          ]
        }
      ]
    },
    {
      "cell_type": "code",
      "source": [
        "print(sentence_1)\n",
        "print(specific_model(sentence_1))"
      ],
      "metadata": {
        "colab": {
          "base_uri": "https://localhost:8080/"
        },
        "id": "dRSRoqSyAV8m",
        "outputId": "d8e2cb55-404d-48bb-bec5-c09dc2274e32"
      },
      "execution_count": 24,
      "outputs": [
        {
          "output_type": "stream",
          "name": "stdout",
          "text": [
            "i had a great time at the movie it was really funny\n",
            "[{'label': 'POS', 'score': 0.9923344254493713}]\n"
          ]
        }
      ]
    },
    {
      "cell_type": "code",
      "source": [
        "print(sentence_2)\n",
        "print(specific_model(sentence_2))"
      ],
      "metadata": {
        "colab": {
          "base_uri": "https://localhost:8080/"
        },
        "id": "tsUqej-PAu2S",
        "outputId": "83f4a4c6-121f-493f-fd3b-e0078075e317"
      },
      "execution_count": 25,
      "outputs": [
        {
          "output_type": "stream",
          "name": "stdout",
          "text": [
            "i had a great time at the movie but the parking was terrible\n",
            "[{'label': 'NEG', 'score': 0.5355538129806519}]\n"
          ]
        }
      ]
    },
    {
      "cell_type": "code",
      "source": [
        "print(sentence_3)\n",
        "print(specific_model(sentence_3))"
      ],
      "metadata": {
        "colab": {
          "base_uri": "https://localhost:8080/"
        },
        "id": "3phD9XZQBMMc",
        "outputId": "190cf053-31a1-433c-ae3f-d5a61953aa55"
      },
      "execution_count": 27,
      "outputs": [
        {
          "output_type": "stream",
          "name": "stdout",
          "text": [
            "i had a great time at the movie but the parking wasn't great\n",
            "[{'label': 'POS', 'score': 0.623440682888031}]\n"
          ]
        }
      ]
    },
    {
      "cell_type": "code",
      "source": [
        "print(sentence_4)\n",
        "print(specific_model(sentence_4))"
      ],
      "metadata": {
        "colab": {
          "base_uri": "https://localhost:8080/"
        },
        "id": "DyyhutSoBRJr",
        "outputId": "ac7bfe2a-6d7f-4930-b204-14a6eb2a620c"
      },
      "execution_count": 28,
      "outputs": [
        {
          "output_type": "stream",
          "name": "stdout",
          "text": [
            "i went to see a movie\n",
            "[{'label': 'NEU', 'score': 0.9007399082183838}]\n"
          ]
        }
      ]
    },
    {
      "cell_type": "code",
      "source": [],
      "metadata": {
        "id": "2BrGuxeiBeDQ"
      },
      "execution_count": null,
      "outputs": []
    }
  ]
}