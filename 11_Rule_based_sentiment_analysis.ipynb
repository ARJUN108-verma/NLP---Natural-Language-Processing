{
  "nbformat": 4,
  "nbformat_minor": 0,
  "metadata": {
    "colab": {
      "provenance": [],
      "authorship_tag": "ABX9TyPwjM/xyV/1JjnmTWhybyoW",
      "include_colab_link": true
    },
    "kernelspec": {
      "name": "python3",
      "display_name": "Python 3"
    },
    "language_info": {
      "name": "python"
    }
  },
  "cells": [
    {
      "cell_type": "markdown",
      "metadata": {
        "id": "view-in-github",
        "colab_type": "text"
      },
      "source": [
        "<a href=\"https://colab.research.google.com/github/ARJUN108-verma/NLP---Natural-Language-Processing/blob/main/11_Rule_based_sentiment_analysis.ipynb\" target=\"_parent\"><img src=\"https://colab.research.google.com/assets/colab-badge.svg\" alt=\"Open In Colab\"/></a>"
      ]
    },
    {
      "cell_type": "markdown",
      "source": [
        "Rule - based sentiment analysis:-"
      ],
      "metadata": {
        "id": "8NS0M8d1zfPn"
      }
    },
    {
      "cell_type": "markdown",
      "source": [
        "Rule-Based Sentiment Analysis is a method in Natural Language Processing (NLP) that uses manually defined linguistic rules and sentiment lexicons (dictionaries of words with sentiment values) to determine the emotional tone of a text — positive, negative, or neutral — without using machine learning."
      ],
      "metadata": {
        "id": "xRD65MZJzlLm"
      }
    },
    {
      "cell_type": "markdown",
      "source": [
        "TextBlob"
      ],
      "metadata": {
        "id": "5F9dyUNUz0QG"
      }
    },
    {
      "cell_type": "code",
      "execution_count": 17,
      "metadata": {
        "id": "XUqazknczdiF"
      },
      "outputs": [],
      "source": [
        "from textblob import TextBlob"
      ]
    },
    {
      "cell_type": "code",
      "source": [
        "sentence_1 =  \"i had a great time at the movie it was really funny\"\n",
        "sentence_2 =  \"i had a great time at the movie but the parking was terrible\"\n",
        "sentence_3 =  \"i had a great time at the movie but the parking wasn't great\"\n",
        "sentence_4 =   \"i went to see a movie\""
      ],
      "metadata": {
        "id": "isP5UEEiz7R5"
      },
      "execution_count": 18,
      "outputs": []
    },
    {
      "cell_type": "code",
      "source": [
        "print(sentence_1)\n",
        "sentiment_score = TextBlob(sentence_1).sentiment.polarity\n",
        "print(sentiment_score)"
      ],
      "metadata": {
        "colab": {
          "base_uri": "https://localhost:8080/"
        },
        "id": "nujwuQYu0Sh9",
        "outputId": "ff7ed392-9182-4de2-bdbe-a8120d4662ca"
      },
      "execution_count": 19,
      "outputs": [
        {
          "output_type": "stream",
          "name": "stdout",
          "text": [
            "i had a great time at the movie it was really funny\n",
            "0.525\n"
          ]
        }
      ]
    },
    {
      "cell_type": "code",
      "source": [
        "print(sentence_2)\n",
        "sentiment_score = TextBlob(sentence_2).sentiment.polarity\n",
        "print(sentiment_score)"
      ],
      "metadata": {
        "colab": {
          "base_uri": "https://localhost:8080/"
        },
        "id": "N0Y7f7sX0pZj",
        "outputId": "f611a1c8-eaa7-4f71-f899-084f7edd987b"
      },
      "execution_count": 20,
      "outputs": [
        {
          "output_type": "stream",
          "name": "stdout",
          "text": [
            "i had a great time at the movie but the parking was terrible\n",
            "-0.09999999999999998\n"
          ]
        }
      ]
    },
    {
      "cell_type": "code",
      "source": [
        "print(sentence_3)\n",
        "sentiment_score = TextBlob(sentence_3).sentiment.polarity\n",
        "print(sentiment_score)"
      ],
      "metadata": {
        "colab": {
          "base_uri": "https://localhost:8080/"
        },
        "id": "BUNQIxKc03ai",
        "outputId": "44b7513c-481d-4093-e1f0-359ce88e55ee"
      },
      "execution_count": 21,
      "outputs": [
        {
          "output_type": "stream",
          "name": "stdout",
          "text": [
            "i had a great time at the movie but the parking wasn't great\n",
            "0.8\n"
          ]
        }
      ]
    },
    {
      "cell_type": "code",
      "source": [
        "print(sentence_4)\n",
        "sentiment_score = TextBlob(sentence_4).sentiment.polarity\n",
        "print(sentiment_score)"
      ],
      "metadata": {
        "colab": {
          "base_uri": "https://localhost:8080/"
        },
        "id": "f0UgJOt91LgH",
        "outputId": "3a34acf2-4b90-4607-86f0-e55a800608a0"
      },
      "execution_count": 22,
      "outputs": [
        {
          "output_type": "stream",
          "name": "stdout",
          "text": [
            "i went to see a movie\n",
            "0.0\n"
          ]
        }
      ]
    },
    {
      "cell_type": "markdown",
      "source": [
        "VADER:-"
      ],
      "metadata": {
        "id": "AqGyyvXv12I-"
      }
    },
    {
      "cell_type": "code",
      "source": [
        "!pip install vaderSentiment"
      ],
      "metadata": {
        "colab": {
          "base_uri": "https://localhost:8080/"
        },
        "id": "gZLPQ6Mq2fr2",
        "outputId": "75a2020f-b949-498f-b336-fdcd924614da"
      },
      "execution_count": 23,
      "outputs": [
        {
          "output_type": "stream",
          "name": "stdout",
          "text": [
            "Requirement already satisfied: vaderSentiment in /usr/local/lib/python3.11/dist-packages (3.3.2)\n",
            "Requirement already satisfied: requests in /usr/local/lib/python3.11/dist-packages (from vaderSentiment) (2.32.3)\n",
            "Requirement already satisfied: charset-normalizer<4,>=2 in /usr/local/lib/python3.11/dist-packages (from requests->vaderSentiment) (3.4.2)\n",
            "Requirement already satisfied: idna<4,>=2.5 in /usr/local/lib/python3.11/dist-packages (from requests->vaderSentiment) (3.10)\n",
            "Requirement already satisfied: urllib3<3,>=1.21.1 in /usr/local/lib/python3.11/dist-packages (from requests->vaderSentiment) (2.4.0)\n",
            "Requirement already satisfied: certifi>=2017.4.17 in /usr/local/lib/python3.11/dist-packages (from requests->vaderSentiment) (2025.7.14)\n"
          ]
        }
      ]
    },
    {
      "cell_type": "code",
      "source": [
        "from vaderSentiment.vaderSentiment import SentimentIntensityAnalyzer"
      ],
      "metadata": {
        "id": "pM5IekUO2bBu"
      },
      "execution_count": 24,
      "outputs": []
    },
    {
      "cell_type": "code",
      "source": [
        "vander_sentiment = SentimentIntensityAnalyzer()"
      ],
      "metadata": {
        "id": "Bb38zeW-2CGr"
      },
      "execution_count": 25,
      "outputs": []
    },
    {
      "cell_type": "code",
      "source": [
        "print(sentence_1)\n",
        "print(vander_sentiment.polarity_scores(sentence_1))"
      ],
      "metadata": {
        "colab": {
          "base_uri": "https://localhost:8080/"
        },
        "id": "jx5n6uHz2x19",
        "outputId": "b1a89bae-7c00-44ee-a326-491ed94bf0f6"
      },
      "execution_count": 26,
      "outputs": [
        {
          "output_type": "stream",
          "name": "stdout",
          "text": [
            "i had a great time at the movie it was really funny\n",
            "{'neg': 0.0, 'neu': 0.578, 'pos': 0.422, 'compound': 0.807}\n"
          ]
        }
      ]
    },
    {
      "cell_type": "code",
      "source": [
        "print(sentence_2)\n",
        "print(vander_sentiment.polarity_scores(sentence_2))"
      ],
      "metadata": {
        "colab": {
          "base_uri": "https://localhost:8080/"
        },
        "id": "xuWkHPxH3F9K",
        "outputId": "48e38070-1393-47c8-be1b-549190ce6d48"
      },
      "execution_count": 27,
      "outputs": [
        {
          "output_type": "stream",
          "name": "stdout",
          "text": [
            "i had a great time at the movie but the parking was terrible\n",
            "{'neg': 0.234, 'neu': 0.621, 'pos': 0.144, 'compound': -0.3818}\n"
          ]
        }
      ]
    },
    {
      "cell_type": "code",
      "source": [
        "print(sentence_3)\n",
        "print(vander_sentiment.polarity_scores(sentence_3))"
      ],
      "metadata": {
        "colab": {
          "base_uri": "https://localhost:8080/"
        },
        "id": "4fyCi8Y93Tie",
        "outputId": "7349dc95-9d23-4fec-feeb-34aba4267551"
      },
      "execution_count": 28,
      "outputs": [
        {
          "output_type": "stream",
          "name": "stdout",
          "text": [
            "i had a great time at the movie but the parking wasn't great\n",
            "{'neg': 0.247, 'neu': 0.611, 'pos': 0.142, 'compound': -0.4387}\n"
          ]
        }
      ]
    },
    {
      "cell_type": "code",
      "source": [
        "print(sentence_4)\n",
        "print(vander_sentiment.polarity_scores(sentence_4))"
      ],
      "metadata": {
        "colab": {
          "base_uri": "https://localhost:8080/"
        },
        "id": "fNt-b6343fcU",
        "outputId": "bad20e94-44c8-4a38-c6ee-1f41b0b9647e"
      },
      "execution_count": 29,
      "outputs": [
        {
          "output_type": "stream",
          "name": "stdout",
          "text": [
            "i went to see a movie\n",
            "{'neg': 0.0, 'neu': 1.0, 'pos': 0.0, 'compound': 0.0}\n"
          ]
        }
      ]
    },
    {
      "cell_type": "code",
      "source": [],
      "metadata": {
        "id": "AVEYVVlQ3qE_"
      },
      "execution_count": null,
      "outputs": []
    }
  ]
}