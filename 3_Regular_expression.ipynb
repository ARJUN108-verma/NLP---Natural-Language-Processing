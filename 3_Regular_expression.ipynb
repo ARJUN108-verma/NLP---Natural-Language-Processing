{
  "nbformat": 4,
  "nbformat_minor": 0,
  "metadata": {
    "colab": {
      "provenance": [],
      "authorship_tag": "ABX9TyOlUaxmGpo1HDROxiBGROe+",
      "include_colab_link": true
    },
    "kernelspec": {
      "name": "python3",
      "display_name": "Python 3"
    },
    "language_info": {
      "name": "python"
    }
  },
  "cells": [
    {
      "cell_type": "markdown",
      "metadata": {
        "id": "view-in-github",
        "colab_type": "text"
      },
      "source": [
        "<a href=\"https://colab.research.google.com/github/ARJUN108-verma/NLP---Natural-Language-Processing/blob/main/3_Regular_expression.ipynb\" target=\"_parent\"><img src=\"https://colab.research.google.com/assets/colab-badge.svg\" alt=\"Open In Colab\"/></a>"
      ]
    },
    {
      "cell_type": "markdown",
      "source": [
        "Regular Expression:-"
      ],
      "metadata": {
        "id": "CNLkiqG-vFrx"
      }
    },
    {
      "cell_type": "markdown",
      "source": [
        "Regular expressions, or \"regex\" for short, is a special syntax for searching for strings that meets a specified pattern. It's a great tool to filter and sort through text when you want to match patterns rather than a hard coded string or strings.\n",
        "\n",
        "There are loads of options for the syntax so it's best to just jump in and get started with some examples."
      ],
      "metadata": {
        "id": "igJkoqKHvLVn"
      }
    },
    {
      "cell_type": "code",
      "execution_count": 12,
      "metadata": {
        "id": "ZTLvUaGYvEIQ"
      },
      "outputs": [],
      "source": [
        "import re"
      ]
    },
    {
      "cell_type": "markdown",
      "source": [
        "Raw String"
      ],
      "metadata": {
        "id": "1dzy6F5NvpGm"
      }
    },
    {
      "cell_type": "markdown",
      "source": [
        "Python recognises certain characters to have a special meaning, for example, \\n in python is used to indicate a new line. However, sometimes these codes that python recognises to have certain meanings appear in our strings and we want to tell python that a \\n in our text is a literal \\n, rather than meaning a new line.\n",
        "\n",
        "We can use the 'r' character before strings to indicate to python that our text is what is known as a \"raw string\"."
      ],
      "metadata": {
        "id": "nv1EsizEvrG-"
      }
    },
    {
      "cell_type": "code",
      "source": [
        "# print text without using raw string indicator\n",
        "my_string = \"https://github.com/ARJUN108-verma/NLP---Natural-Language-Processing/blob/main/regular_expression.text\"\n",
        "print(my_string)"
      ],
      "metadata": {
        "colab": {
          "base_uri": "https://localhost:8080/"
        },
        "id": "MR5udIGkvcZ1",
        "outputId": "6466d66b-a288-4f89-ae53-b96871db196b"
      },
      "execution_count": 13,
      "outputs": [
        {
          "output_type": "stream",
          "name": "stdout",
          "text": [
            "https://github.com/ARJUN108-verma/NLP---Natural-Language-Processing/blob/main/regular_expression.text\n"
          ]
        }
      ]
    },
    {
      "cell_type": "markdown",
      "source": [
        "See how the python interprets the \\n to mean a new line! Now let's try it as a raw string..."
      ],
      "metadata": {
        "id": "Ei4XLUChwfko"
      }
    },
    {
      "cell_type": "code",
      "source": [
        "my_string = r\"https://github.com/ARJUN108-verma/NLP---Natural-Language-Processing/blob/main/regular_expression.text\"\n",
        "print(my_string)"
      ],
      "metadata": {
        "colab": {
          "base_uri": "https://localhost:8080/"
        },
        "id": "RPFsU726wWFS",
        "outputId": "9b90c991-adee-429f-ae45-eade1a8cd4a0"
      },
      "execution_count": 14,
      "outputs": [
        {
          "output_type": "stream",
          "name": "stdout",
          "text": [
            "https://github.com/ARJUN108-verma/NLP---Natural-Language-Processing/blob/main/regular_expression.text\n"
          ]
        }
      ]
    },
    {
      "cell_type": "markdown",
      "source": [
        "The folder path is now printed as we wanted. This is important to keep in mind when working with regular expressions as we'll want to make sure we are using raw strings when working with special characters. It's also just a good habit to get into when working with strings and regular expressions so you don't get caught out!"
      ],
      "metadata": {
        "id": "cdZ7deRWw1Yg"
      }
    },
    {
      "cell_type": "markdown",
      "source": [
        "re.search:-"
      ],
      "metadata": {
        "id": "-x3pGHYkxAp3"
      }
    },
    {
      "cell_type": "markdown",
      "source": [
        "re.search is a function which allows us to check if a certain pattern is in a string. It uses the logic re.search(\"pattern to find\", \"string to find it in\"). It will return the pattern if it is found in the string, or else it will return None if the pattern is not found."
      ],
      "metadata": {
        "id": "B3y3DGtbxDT3"
      }
    },
    {
      "cell_type": "code",
      "source": [
        "result_src = re.search(\"pattern\", r\"string containing the pattern\")\n",
        "print(result_src)"
      ],
      "metadata": {
        "colab": {
          "base_uri": "https://localhost:8080/"
        },
        "id": "x7-VSOXkwpva",
        "outputId": "aabc0abb-90c7-4b40-fffb-67cd91633fc7"
      },
      "execution_count": 15,
      "outputs": [
        {
          "output_type": "stream",
          "name": "stdout",
          "text": [
            "<re.Match object; span=(22, 29), match='pattern'>\n"
          ]
        }
      ]
    },
    {
      "cell_type": "code",
      "source": [
        "print(result_src.group())"
      ],
      "metadata": {
        "colab": {
          "base_uri": "https://localhost:8080/"
        },
        "id": "ErORCVKaxskM",
        "outputId": "f8bea869-01b9-4a74-d3e0-49c018ec1819"
      },
      "execution_count": 16,
      "outputs": [
        {
          "output_type": "stream",
          "name": "stdout",
          "text": [
            "pattern\n"
          ]
        }
      ]
    },
    {
      "cell_type": "code",
      "source": [
        "result_src = re.search(\"pattern\",r\"the phrase to find isn't in this string\")\n",
        "print(result_src)"
      ],
      "metadata": {
        "colab": {
          "base_uri": "https://localhost:8080/"
        },
        "id": "R7lxGOZwxyyJ",
        "outputId": "34536a74-0744-43d1-9579-cb8cbcce631e"
      },
      "execution_count": 17,
      "outputs": [
        {
          "output_type": "stream",
          "name": "stdout",
          "text": [
            "None\n"
          ]
        }
      ]
    },
    {
      "cell_type": "markdown",
      "source": [
        "re.sub:-"
      ],
      "metadata": {
        "id": "bydsuoLtyQWH"
      }
    },
    {
      "cell_type": "markdown",
      "source": [
        "re.sub allows us to find certain text and replace it. It uses the logic re.sub(\"pattern to find\", \"replacement text\", \"string\")."
      ],
      "metadata": {
        "id": "KD51gFy5yU6n"
      }
    },
    {
      "cell_type": "code",
      "source": [
        "string = r\"Nirmal has a beutiful girlfriend name neeta\""
      ],
      "metadata": {
        "id": "unMljWWtyH34"
      },
      "execution_count": 18,
      "outputs": []
    },
    {
      "cell_type": "code",
      "source": [
        "result_resub = re.sub(r\"neeta\", r\"neetu\",string)\n",
        "print(result_resub)"
      ],
      "metadata": {
        "colab": {
          "base_uri": "https://localhost:8080/"
        },
        "id": "D8dXexFYyvEI",
        "outputId": "bb4a73ac-a697-4a8d-dc74-c117e7974d6e"
      },
      "execution_count": 21,
      "outputs": [
        {
          "output_type": "stream",
          "name": "stdout",
          "text": [
            "Nirmal has a beutiful girlfriend name neetu\n"
          ]
        }
      ]
    },
    {
      "cell_type": "markdown",
      "source": [
        "Regex Syntax:-"
      ],
      "metadata": {
        "id": "y6X94IZ3z2_X"
      }
    },
    {
      "cell_type": "markdown",
      "source": [
        "The real power of regex is being able to leverage the syntax to create more complex searches/replacements."
      ],
      "metadata": {
        "id": "kTVuGISaz4xX"
      }
    },
    {
      "cell_type": "code",
      "source": [
        "customer_reviews = ['sam was a great help to me in the store',\n",
        "                    'the cashier was very rude to me, I think her name was eleanor',\n",
        "                    'amazing work from sadeen!',\n",
        "                    'sarah was able to help me find the items i needed quickly',\n",
        "                    'lucy is such a great addition to the team',\n",
        "                    'great service from sara she found me what i wanted'\n",
        "                   ]"
      ],
      "metadata": {
        "id": "ydpVEAj8zAjy"
      },
      "execution_count": 22,
      "outputs": []
    },
    {
      "cell_type": "code",
      "source": [
        "sarahs_reviews = []\n",
        "pattern_to_find = r\"sarah?\""
      ],
      "metadata": {
        "id": "50ZGTnt-0D4j"
      },
      "execution_count": 23,
      "outputs": []
    },
    {
      "cell_type": "code",
      "source": [
        "for string in customer_reviews:\n",
        "    if (re.search(pattern_to_find, string)):\n",
        "        sarahs_reviews.append(string)\n"
      ],
      "metadata": {
        "id": "WE1OWVoK0JuB"
      },
      "execution_count": 24,
      "outputs": []
    },
    {
      "cell_type": "code",
      "source": [
        "print(sarahs_reviews)"
      ],
      "metadata": {
        "colab": {
          "base_uri": "https://localhost:8080/"
        },
        "id": "FUbydDah0S2v",
        "outputId": "d4da2729-4cf6-4a40-a3ab-14c4936e55cd"
      },
      "execution_count": 25,
      "outputs": [
        {
          "output_type": "stream",
          "name": "stdout",
          "text": [
            "['sarah was able to help me find the items i needed quickly', 'great service from sara she found me what i wanted']\n"
          ]
        }
      ]
    },
    {
      "cell_type": "markdown",
      "source": [
        "Find reviews that start with the letter a"
      ],
      "metadata": {
        "id": "AfI-24qW0e6B"
      }
    },
    {
      "cell_type": "code",
      "source": [
        "a_reviews = []\n",
        "pattern_to_find =  r\"^a\""
      ],
      "metadata": {
        "id": "LjMxOqDu0YP1"
      },
      "execution_count": 26,
      "outputs": []
    },
    {
      "cell_type": "code",
      "source": [
        "for string in customer_reviews:\n",
        "    if (re.search(pattern_to_find, string)):\n",
        "        a_reviews.append(string)"
      ],
      "metadata": {
        "id": "tP4MWpzV0n9B"
      },
      "execution_count": 27,
      "outputs": []
    },
    {
      "cell_type": "code",
      "source": [
        "print(a_reviews)"
      ],
      "metadata": {
        "colab": {
          "base_uri": "https://localhost:8080/"
        },
        "id": "wj4T60Pp0sdH",
        "outputId": "9a623e87-d105-48ed-c678-b5ce42388391"
      },
      "execution_count": 28,
      "outputs": [
        {
          "output_type": "stream",
          "name": "stdout",
          "text": [
            "['amazing work from sadeen!']\n"
          ]
        }
      ]
    },
    {
      "cell_type": "markdown",
      "source": [
        "Find reviews that end with the letter y"
      ],
      "metadata": {
        "id": "4irzc8M001Qp"
      }
    },
    {
      "cell_type": "code",
      "source": [
        "y_reviews = []\n",
        "pattern_to_find = r\"y$\""
      ],
      "metadata": {
        "id": "u-9ppl-y0wTo"
      },
      "execution_count": 29,
      "outputs": []
    },
    {
      "cell_type": "code",
      "source": [
        "for string in customer_reviews:\n",
        "    if (re.search(pattern_to_find, string)):\n",
        "        y_reviews.append(string)"
      ],
      "metadata": {
        "id": "gLJVF3LV070q"
      },
      "execution_count": 30,
      "outputs": []
    },
    {
      "cell_type": "code",
      "source": [
        "print(y_reviews)"
      ],
      "metadata": {
        "colab": {
          "base_uri": "https://localhost:8080/"
        },
        "id": "KvslO_Xj1E9W",
        "outputId": "ea6b46d7-f0ec-4db8-9d4d-c31a10ac12a8"
      },
      "execution_count": 31,
      "outputs": [
        {
          "output_type": "stream",
          "name": "stdout",
          "text": [
            "['sarah was able to help me find the items i needed quickly']\n"
          ]
        }
      ]
    },
    {
      "cell_type": "markdown",
      "source": [
        "Find reviews that contain the words needed or wanted."
      ],
      "metadata": {
        "id": "Ll6biQ4T1QnR"
      }
    },
    {
      "cell_type": "code",
      "source": [
        "needwant_reviews = []\n",
        "pattern_to_find = r\"(need|want)ed\""
      ],
      "metadata": {
        "id": "wDGgpBFV1MNT"
      },
      "execution_count": 32,
      "outputs": []
    },
    {
      "cell_type": "code",
      "source": [
        "for string in customer_reviews:\n",
        "    if (re.search(pattern_to_find, string)):\n",
        "        needwant_reviews.append(string)"
      ],
      "metadata": {
        "id": "Sy3zE0-V1W5J"
      },
      "execution_count": 33,
      "outputs": []
    },
    {
      "cell_type": "code",
      "source": [
        "print(needwant_reviews)"
      ],
      "metadata": {
        "colab": {
          "base_uri": "https://localhost:8080/"
        },
        "id": "pYet3lum1aLa",
        "outputId": "588875aa-bfbc-4de6-de48-09b6cd8f5306"
      },
      "execution_count": 34,
      "outputs": [
        {
          "output_type": "stream",
          "name": "stdout",
          "text": [
            "['sarah was able to help me find the items i needed quickly', 'great service from sara she found me what i wanted']\n"
          ]
        }
      ]
    },
    {
      "cell_type": "markdown",
      "source": [
        "Remove anything from the review that isn't a word or a space (i.e. remove punctuation)"
      ],
      "metadata": {
        "id": "eEo7soUM1iK_"
      }
    },
    {
      "cell_type": "code",
      "source": [
        "no_punct_reviews = []\n",
        "pattern_to_find = r\"[^\\w\\s]\""
      ],
      "metadata": {
        "id": "vUZ0jOeI1dwN"
      },
      "execution_count": 35,
      "outputs": []
    },
    {
      "cell_type": "code",
      "source": [
        "for string in customer_reviews:\n",
        "    no_punct_string = re.sub(pattern_to_find, \"\", string)\n",
        "    no_punct_reviews.append(no_punct_string)"
      ],
      "metadata": {
        "id": "onqVTiA61orW"
      },
      "execution_count": 36,
      "outputs": []
    },
    {
      "cell_type": "code",
      "source": [
        "print(no_punct_reviews)"
      ],
      "metadata": {
        "colab": {
          "base_uri": "https://localhost:8080/"
        },
        "id": "4UDfv1-X1t9F",
        "outputId": "e45bc312-c55c-4e5b-8824-f7b638d12b97"
      },
      "execution_count": 37,
      "outputs": [
        {
          "output_type": "stream",
          "name": "stdout",
          "text": [
            "['sam was a great help to me in the store', 'the cashier was very rude to me I think her name was eleanor', 'amazing work from sadeen', 'sarah was able to help me find the items i needed quickly', 'lucy is such a great addition to the team', 'great service from sara she found me what i wanted']\n"
          ]
        }
      ]
    },
    {
      "cell_type": "code",
      "source": [],
      "metadata": {
        "id": "7azijV3Q1xvf"
      },
      "execution_count": null,
      "outputs": []
    }
  ]
}