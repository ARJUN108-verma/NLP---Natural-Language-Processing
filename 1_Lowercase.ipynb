{
  "nbformat": 4,
  "nbformat_minor": 0,
  "metadata": {
    "colab": {
      "provenance": [],
      "authorship_tag": "ABX9TyMIEbFtYkiH1EICO7JX0GlU",
      "include_colab_link": true
    },
    "kernelspec": {
      "name": "python3",
      "display_name": "Python 3"
    },
    "language_info": {
      "name": "python"
    }
  },
  "cells": [
    {
      "cell_type": "markdown",
      "metadata": {
        "id": "view-in-github",
        "colab_type": "text"
      },
      "source": [
        "<a href=\"https://colab.research.google.com/github/ARJUN108-verma/NLP---Natural-Language-Processing/blob/main/1_Lowercase.ipynb\" target=\"_parent\"><img src=\"https://colab.research.google.com/assets/colab-badge.svg\" alt=\"Open In Colab\"/></a>"
      ]
    },
    {
      "cell_type": "markdown",
      "source": [
        "Lowercase:-"
      ],
      "metadata": {
        "id": "2D7ljNORN_3g"
      }
    },
    {
      "cell_type": "markdown",
      "source": [
        "An important first step in working with text data is simply converting it into lowercase. Why do we do this? Well, it helps maintain consistency in our data and our output. When we're working with text, be that exploratory analysis or machine learning, we want to ensure words are understood and counted as the same word, your model might treat a word with a capital letter different from the same word without any capital letter. Lowercasing ensures conformity.\n",
        "\n",
        "It also make it easier to continue with additonal cleaning of the data as we don’t have to account for different cases.\n",
        "\n",
        "However, do remember that lowercasing can change the meaning of some text e.g \"US\" in uppercase is understood as a country, as opposed to \"us\".\n",
        "\n",
        "Let's take a look at how easy it is to convert our data to lowercase using python's built in lower() function."
      ],
      "metadata": {
        "id": "m0q9KQ0ANIl5"
      }
    },
    {
      "cell_type": "code",
      "execution_count": 1,
      "metadata": {
        "colab": {
          "base_uri": "https://localhost:8080/"
        },
        "id": "HxNEFT66NDaX",
        "outputId": "68e22d3e-061a-465e-df74-33fe1f8828a5"
      },
      "outputs": [
        {
          "output_type": "stream",
          "name": "stdout",
          "text": [
            "My Name is Arjun Kumar Verma.\n"
          ]
        }
      ],
      "source": [
        "sentence = \"My Name is Arjun Kumar Verma.\"\n",
        "print(sentence)"
      ]
    },
    {
      "cell_type": "code",
      "source": [
        "#using lowercase\n",
        "print(sentence.lower())"
      ],
      "metadata": {
        "colab": {
          "base_uri": "https://localhost:8080/"
        },
        "id": "rTMOA5EXOgGX",
        "outputId": "17e8ca62-4684-4708-90f0-6db1cb3e05b5"
      },
      "execution_count": 2,
      "outputs": [
        {
          "output_type": "stream",
          "name": "stdout",
          "text": [
            "my name is arjun kumar verma.\n"
          ]
        }
      ]
    },
    {
      "cell_type": "code",
      "source": [
        "sen_list = [\"Hey Nirmal , will you come to My Home?\",\n",
        "            \"We will go to College .\",\n",
        "            \"Our College is excellence for study.\"]"
      ],
      "metadata": {
        "id": "yB2V1DlAOno5"
      },
      "execution_count": 3,
      "outputs": []
    },
    {
      "cell_type": "code",
      "source": [
        "print(sen_list)"
      ],
      "metadata": {
        "colab": {
          "base_uri": "https://localhost:8080/"
        },
        "id": "W7Up2X0EPTcl",
        "outputId": "b666deb6-6a8d-4cee-da4d-508d58030a94"
      },
      "execution_count": 4,
      "outputs": [
        {
          "output_type": "stream",
          "name": "stdout",
          "text": [
            "['Hey Nirmal , will you come to My Home?', 'We will go to College .', 'Our College is excellence for study.']\n"
          ]
        }
      ]
    },
    {
      "cell_type": "code",
      "source": [
        "lower_sen_list = [x.lower() for x in sen_list]\n",
        "print(lower_sen_list)"
      ],
      "metadata": {
        "colab": {
          "base_uri": "https://localhost:8080/"
        },
        "id": "44pBUI_xPWI8",
        "outputId": "a9b53993-9866-43de-dcc1-a4e0dfefa746"
      },
      "execution_count": 8,
      "outputs": [
        {
          "output_type": "stream",
          "name": "stdout",
          "text": [
            "['hey nirmal , will you come to my home?', 'we will go to college .', 'our college is excellence for study.']\n"
          ]
        }
      ]
    },
    {
      "cell_type": "code",
      "source": [],
      "metadata": {
        "id": "YXcNvJMTPeqK"
      },
      "execution_count": null,
      "outputs": []
    }
  ]
}