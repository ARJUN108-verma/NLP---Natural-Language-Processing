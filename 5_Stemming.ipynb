{
  "nbformat": 4,
  "nbformat_minor": 0,
  "metadata": {
    "colab": {
      "provenance": [],
      "authorship_tag": "ABX9TyNSBZ4dsyEJ9GxzsBWXsycJ",
      "include_colab_link": true
    },
    "kernelspec": {
      "name": "python3",
      "display_name": "Python 3"
    },
    "language_info": {
      "name": "python"
    }
  },
  "cells": [
    {
      "cell_type": "markdown",
      "metadata": {
        "id": "view-in-github",
        "colab_type": "text"
      },
      "source": [
        "<a href=\"https://colab.research.google.com/github/ARJUN108-verma/NLP---Natural-Language-Processing/blob/main/5_Stemming.ipynb\" target=\"_parent\"><img src=\"https://colab.research.google.com/assets/colab-badge.svg\" alt=\"Open In Colab\"/></a>"
      ]
    },
    {
      "cell_type": "markdown",
      "source": [
        "Stemming:-"
      ],
      "metadata": {
        "id": "hzPMKCQsb_Rm"
      }
    },
    {
      "cell_type": "markdown",
      "source": [
        "The next step in preprocessing is to standardise the text. One option for this is stemming, where words are reduced to their base form. For example, words like ‘connecting’ or ‘connected’ will be stemmed to the base form ‘connect’. Stemming works by removing suffix/ending of word but can sometimes lead to the base form not being meaningful or a proper word.\n",
        "\n",
        "We standardize the text in this way because it will lower the number of unique words in our dataset; therefore reducing the size and complexity of our data. Removing complexity and noise from the data is an important step for preparing our data properly for machine learning."
      ],
      "metadata": {
        "id": "QJg-tEetcJnG"
      }
    },
    {
      "cell_type": "code",
      "execution_count": 5,
      "metadata": {
        "id": "jl50xj0Xb0cd"
      },
      "outputs": [],
      "source": [
        "from nltk.stem import PorterStemmer"
      ]
    },
    {
      "cell_type": "code",
      "source": [
        "pc = PorterStemmer()"
      ],
      "metadata": {
        "id": "8h_an2OxcVoo"
      },
      "execution_count": 6,
      "outputs": []
    },
    {
      "cell_type": "code",
      "source": [
        "connect_tokens = ['connects','connecting', 'connectivity', 'connect','connected']"
      ],
      "metadata": {
        "id": "PKIKe5kcchEy"
      },
      "execution_count": 7,
      "outputs": []
    },
    {
      "cell_type": "code",
      "source": [
        "for word in connect_tokens:\n",
        "  print(pc.stem(word))"
      ],
      "metadata": {
        "colab": {
          "base_uri": "https://localhost:8080/"
        },
        "id": "Z48zkoqlc3UX",
        "outputId": "bfd1e68f-1d2d-46dc-b995-e183ade5dca0"
      },
      "execution_count": 8,
      "outputs": [
        {
          "output_type": "stream",
          "name": "stdout",
          "text": [
            "connect\n",
            "connect\n",
            "connect\n",
            "connect\n",
            "connect\n"
          ]
        }
      ]
    },
    {
      "cell_type": "code",
      "source": [
        "Learn = ['learn','learning', 'learns','learned']"
      ],
      "metadata": {
        "id": "9Azu7dXYdCet"
      },
      "execution_count": 9,
      "outputs": []
    },
    {
      "cell_type": "code",
      "source": [
        "for word in Learn:\n",
        "  print(pc.stem(word))"
      ],
      "metadata": {
        "colab": {
          "base_uri": "https://localhost:8080/"
        },
        "id": "IGprjXm4dhIw",
        "outputId": "f6dfb023-5bf5-473e-b6a7-9841e6ea9670"
      },
      "execution_count": 11,
      "outputs": [
        {
          "output_type": "stream",
          "name": "stdout",
          "text": [
            "learn\n",
            "learn\n",
            "learn\n",
            "learn\n"
          ]
        }
      ]
    },
    {
      "cell_type": "code",
      "source": [
        "like_tokens = ['like', 'better','liked','likes','worse','liking']\n"
      ],
      "metadata": {
        "id": "7cyXA3LddpJ0"
      },
      "execution_count": 12,
      "outputs": []
    },
    {
      "cell_type": "code",
      "source": [
        "for word in like_tokens:\n",
        "  print(pc.stem(word))"
      ],
      "metadata": {
        "colab": {
          "base_uri": "https://localhost:8080/"
        },
        "id": "TaS7va9DeE3S",
        "outputId": "d03444a4-3bbc-43c0-f259-64bb66d00d1a"
      },
      "execution_count": 13,
      "outputs": [
        {
          "output_type": "stream",
          "name": "stdout",
          "text": [
            "like\n",
            "better\n",
            "like\n",
            "like\n",
            "wors\n",
            "like\n"
          ]
        }
      ]
    },
    {
      "cell_type": "code",
      "source": [],
      "metadata": {
        "id": "4lsqJhJieLnf"
      },
      "execution_count": null,
      "outputs": []
    }
  ]
}