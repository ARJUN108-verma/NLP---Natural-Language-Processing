{
  "nbformat": 4,
  "nbformat_minor": 0,
  "metadata": {
    "colab": {
      "provenance": [],
      "authorship_tag": "ABX9TyPckAGo/5hwP/0clictzHZO",
      "include_colab_link": true
    },
    "kernelspec": {
      "name": "python3",
      "display_name": "Python 3"
    },
    "language_info": {
      "name": "python"
    }
  },
  "cells": [
    {
      "cell_type": "markdown",
      "metadata": {
        "id": "view-in-github",
        "colab_type": "text"
      },
      "source": [
        "<a href=\"https://colab.research.google.com/github/ARJUN108-verma/NLP---Natural-Language-Processing/blob/main/6_Lemmatizations.ipynb\" target=\"_parent\"><img src=\"https://colab.research.google.com/assets/colab-badge.svg\" alt=\"Open In Colab\"/></a>"
      ]
    },
    {
      "cell_type": "markdown",
      "source": [
        "Lemmatizations:-"
      ],
      "metadata": {
        "id": "sz9TN0pphppQ"
      }
    },
    {
      "cell_type": "markdown",
      "source": [
        "Where stemming removes the last few characters of a word, lemmatization stems the word to a more meaningful base form and ensures it does not lose it's meaning. Lemmatization works more intelligently, referencing a pre-defined dictionary containing the context of words and uses this when diminishing the word to the base form."
      ],
      "metadata": {
        "id": "y1p103RJht3P"
      }
    },
    {
      "cell_type": "code",
      "execution_count": 1,
      "metadata": {
        "id": "9Wa1dsoAhexi"
      },
      "outputs": [],
      "source": [
        "connect_tokens = ['connecting', 'connected', 'connectivity', 'connect', 'connects']"
      ]
    },
    {
      "cell_type": "code",
      "source": [
        "learn_tokens = ['learned', 'learning', 'learn', 'learns', 'learner', 'learners']"
      ],
      "metadata": {
        "id": "BiITCmSYh6wP"
      },
      "execution_count": 2,
      "outputs": []
    },
    {
      "cell_type": "code",
      "source": [
        "likes_tokens = ['likes', 'better', 'worse']"
      ],
      "metadata": {
        "id": "UsiMjXHZh9YQ"
      },
      "execution_count": 3,
      "outputs": []
    },
    {
      "cell_type": "code",
      "source": [
        "import nltk\n",
        "nltk.download('wordnet')\n",
        "from nltk.stem import WordNetLemmatizer"
      ],
      "metadata": {
        "colab": {
          "base_uri": "https://localhost:8080/"
        },
        "id": "FkLd_E2tiLq3",
        "outputId": "3eb85d68-0f19-4701-a13d-afcc8886cd36"
      },
      "execution_count": 5,
      "outputs": [
        {
          "output_type": "stream",
          "name": "stderr",
          "text": [
            "[nltk_data] Downloading package wordnet to /root/nltk_data...\n"
          ]
        }
      ]
    },
    {
      "cell_type": "code",
      "source": [
        "lemmatizer = WordNetLemmatizer()"
      ],
      "metadata": {
        "id": "hSY5HJQkii9D"
      },
      "execution_count": 7,
      "outputs": []
    },
    {
      "cell_type": "code",
      "source": [
        "for word in connect_tokens:\n",
        "  print(lemmatizer.lemmatize(word))"
      ],
      "metadata": {
        "colab": {
          "base_uri": "https://localhost:8080/"
        },
        "id": "BQfS4h8biy5g",
        "outputId": "e3e28f72-ef7e-47c9-9606-408a695665cc"
      },
      "execution_count": 8,
      "outputs": [
        {
          "output_type": "stream",
          "name": "stdout",
          "text": [
            "connecting\n",
            "connected\n",
            "connectivity\n",
            "connect\n",
            "connects\n"
          ]
        }
      ]
    },
    {
      "cell_type": "code",
      "source": [
        "for word in learn_tokens:\n",
        "  print(lemmatizer.lemmatize(word))"
      ],
      "metadata": {
        "colab": {
          "base_uri": "https://localhost:8080/"
        },
        "id": "rz7WMxctjJbn",
        "outputId": "fff20453-d47d-42c3-b917-186c934d152b"
      },
      "execution_count": 9,
      "outputs": [
        {
          "output_type": "stream",
          "name": "stdout",
          "text": [
            "learned\n",
            "learning\n",
            "learn\n",
            "learns\n",
            "learner\n",
            "learner\n"
          ]
        }
      ]
    },
    {
      "cell_type": "code",
      "source": [
        "for word in likes_tokens:\n",
        "  print(lemmatizer.lemmatize(word))"
      ],
      "metadata": {
        "colab": {
          "base_uri": "https://localhost:8080/"
        },
        "id": "s06wocgbjUq4",
        "outputId": "123d181a-cc7b-4968-8eba-e0e1a08f1114"
      },
      "execution_count": 10,
      "outputs": [
        {
          "output_type": "stream",
          "name": "stdout",
          "text": [
            "like\n",
            "better\n",
            "worse\n"
          ]
        }
      ]
    },
    {
      "cell_type": "code",
      "source": [],
      "metadata": {
        "id": "gssSFvnwjYVT"
      },
      "execution_count": null,
      "outputs": []
    }
  ]
}