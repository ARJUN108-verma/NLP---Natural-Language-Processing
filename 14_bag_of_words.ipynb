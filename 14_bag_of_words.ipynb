{
  "nbformat": 4,
  "nbformat_minor": 0,
  "metadata": {
    "colab": {
      "provenance": [],
      "authorship_tag": "ABX9TyNjxDzo5zFPLG0Xc5V7jLun",
      "include_colab_link": true
    },
    "kernelspec": {
      "name": "python3",
      "display_name": "Python 3"
    },
    "language_info": {
      "name": "python"
    }
  },
  "cells": [
    {
      "cell_type": "markdown",
      "metadata": {
        "id": "view-in-github",
        "colab_type": "text"
      },
      "source": [
        "<a href=\"https://colab.research.google.com/github/ARJUN108-verma/NLP---Natural-Language-Processing/blob/main/14_bag_of_words.ipynb\" target=\"_parent\"><img src=\"https://colab.research.google.com/assets/colab-badge.svg\" alt=\"Open In Colab\"/></a>"
      ]
    },
    {
      "cell_type": "markdown",
      "source": [
        "Bag of Words:-"
      ],
      "metadata": {
        "id": "SUbIzPr3knbz"
      }
    },
    {
      "cell_type": "markdown",
      "source": [
        "Represents text as a set of word frequencies.\n",
        "\n",
        "Ignores word order."
      ],
      "metadata": {
        "id": "fA9vuPkdkudS"
      }
    },
    {
      "cell_type": "code",
      "execution_count": 1,
      "metadata": {
        "id": "waIA0UAVkBfe"
      },
      "outputs": [],
      "source": [
        "import pandas as pd\n",
        "from sklearn.feature_extraction.text import CountVectorizer"
      ]
    },
    {
      "cell_type": "code",
      "source": [
        "data = [' Most shark attacks occur about 10 feet from the beach since that is where the people are',\n",
        "        'the efficiency with which he paired the socks in the drawer was quite admirable',\n",
        "        'carol drank the blood as if she were a vampire',\n",
        "        'giving directions that the mountains are to the west only works when you can see them',\n",
        "        'the sign said there was road work ahead so he decided to speed up',\n",
        "        'the gruff old man sat in the back of the bait shop grumbling to himself as he scooped out a handful of worms']"
      ],
      "metadata": {
        "id": "diIg8_E6lTiN"
      },
      "execution_count": 2,
      "outputs": []
    },
    {
      "cell_type": "code",
      "source": [
        "countvec = CountVectorizer()"
      ],
      "metadata": {
        "id": "FlnhQ5NOlZ6p"
      },
      "execution_count": 3,
      "outputs": []
    },
    {
      "cell_type": "code",
      "source": [
        "countvec_fit = countvec.fit_transform(data)"
      ],
      "metadata": {
        "id": "1o3DdF7DliKw"
      },
      "execution_count": 4,
      "outputs": []
    },
    {
      "cell_type": "code",
      "source": [
        "bag_of_words = pd.DataFrame(countvec_fit.toarray(), columns = countvec.get_feature_names_out())"
      ],
      "metadata": {
        "id": "dGN9bwbDl4KJ"
      },
      "execution_count": 5,
      "outputs": []
    },
    {
      "cell_type": "code",
      "source": [
        "print(bag_of_words)"
      ],
      "metadata": {
        "colab": {
          "base_uri": "https://localhost:8080/"
        },
        "id": "Tfvi_EqimX7m",
        "outputId": "3886d98f-a747-4a25-b346-a15a09f699f4"
      },
      "execution_count": 6,
      "outputs": [
        {
          "output_type": "stream",
          "name": "stdout",
          "text": [
            "   10  about  admirable  ahead  are  as  ...  which  with  work  works  worms  you\n",
            "0   1      1          0      0    1   0  ...      0     0     0      0      0    0\n",
            "1   0      0          1      0    0   0  ...      1     1     0      0      0    0\n",
            "2   0      0          0      0    0   1  ...      0     0     0      0      0    0\n",
            "3   0      0          0      0    1   0  ...      0     0     0      1      0    1\n",
            "4   0      0          0      1    0   0  ...      0     0     1      0      0    0\n",
            "5   0      0          0      0    0   1  ...      0     0     0      0      1    0\n",
            "\n",
            "[6 rows x 71 columns]\n"
          ]
        }
      ]
    },
    {
      "cell_type": "code",
      "source": [],
      "metadata": {
        "id": "TK9WRkTemctj"
      },
      "execution_count": null,
      "outputs": []
    }
  ]
}